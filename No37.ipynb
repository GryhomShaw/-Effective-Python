{
 "cells": [
  {
   "cell_type": "code",
   "execution_count": 1,
   "metadata": {},
   "outputs": [],
   "source": [
    "class SimpleGradebook:\n",
    "    def __init__(self):\n",
    "        self._grades = {}\n",
    "        \n",
    "    def add_student(self, name):\n",
    "        self._grades[name] = []\n",
    "    \n",
    "    def report_grade(self, name, score):\n",
    "        self._grades[name].append(score)\n",
    "        \n",
    "    def average_grade(self, name):\n",
    "        grades = self._grades[name]\n",
    "        return sum(grades) / len(grades)  \n",
    "        \n"
   ]
  },
  {
   "cell_type": "code",
   "execution_count": 2,
   "metadata": {},
   "outputs": [
    {
     "name": "stdout",
     "output_type": "stream",
     "text": [
      "90.66666666666667\n"
     ]
    }
   ],
   "source": [
    "book = SimpleGradebook()\n",
    "book.add_student('xgh')\n",
    "book.report_grade('xgh', 90)\n",
    "book.report_grade('xgh', 94)\n",
    "book.report_grade('xgh', 88)\n",
    "avg = book.average_grade('xgh')\n",
    "print(avg)"
   ]
  },
  {
   "cell_type": "markdown",
   "metadata": {},
   "source": [
    "- 要求记录每个学生的多科成绩"
   ]
  },
  {
   "cell_type": "code",
   "execution_count": 8,
   "metadata": {},
   "outputs": [],
   "source": [
    "from collections import defaultdict\n",
    "\n",
    "class BySubjectGradebook:\n",
    "    def __init__(self):\n",
    "        self._grades = {}\n",
    "    \n",
    "    def add_student(self, name):  \n",
    "         self._grades[name] = defaultdict(list)\n",
    "        \n",
    "    def report_grade(self, name, subject, score):\n",
    "        self._grades[name][subject].append(score)\n",
    "    \n",
    "    def average_grade(self, name):\n",
    "        cnt, score = 0, 0.0\n",
    "        for each_sub in self._grades[name].values():\n",
    "            cnt += len(each_sub)\n",
    "            score += sum(each_sub)\n",
    "        return score / cnt"
   ]
  },
  {
   "cell_type": "code",
   "execution_count": 9,
   "metadata": {},
   "outputs": [
    {
     "name": "stdout",
     "output_type": "stream",
     "text": [
      "88.75\n"
     ]
    }
   ],
   "source": [
    "book = BySubjectGradebook()\n",
    "book.add_student('xgh')\n",
    "book.report_grade('xgh','math', 90)\n",
    "book.report_grade('xgh','math', 94)\n",
    "book.report_grade('xgh','eng',  88)\n",
    "book.report_grade('xgh','eng',  83)\n",
    "avg = book.average_grade('xgh')\n",
    "print(avg)"
   ]
  },
  {
   "cell_type": "code",
   "execution_count": 14,
   "metadata": {},
   "outputs": [],
   "source": [
    "from collections import defaultdict\n",
    "class WeightedGradebook:\n",
    "    def __init__(self):\n",
    "        self._grades = {}\n",
    "        \n",
    "    def add_student(self, name):\n",
    "        self._grades[name] = defaultdict(list)\n",
    "        \n",
    "    def report_grade(self, name, subject, weight, score):\n",
    "        self._grades[name][subject].append((score, weight))\n",
    "        \n",
    "    def average_grade(self, name):\n",
    "        cnt, scores = 0.0, 0.0\n",
    "        for each_sub in self._grades[name].values():\n",
    "            sub_weights, sub_scores = 0.0, 0.0\n",
    "            for each_score, each_weight in each_sub:\n",
    "                sub_weights += each_weight \n",
    "                sub_scores += each_score * each_weight \n",
    "            scores += sub_scores / sub_weights\n",
    "            cnt += 1\n",
    "        return scores / cnt"
   ]
  },
  {
   "cell_type": "code",
   "execution_count": 15,
   "metadata": {},
   "outputs": [
    {
     "name": "stdout",
     "output_type": "stream",
     "text": [
      "80.25\n"
     ]
    }
   ],
   "source": [
    "book = WeightedGradebook()\n",
    "book.add_student('xgh')\n",
    "book.report_grade('xgh', 'Math', 0.05, 75)\n",
    "book.report_grade('xgh', 'Math', 0.15, 65)\n",
    "book.report_grade('xgh', 'Math', 0.80, 70 )\n",
    "book.report_grade('xgh', 'Gym', 0.40, 100)\n",
    "book.report_grade('xgh', 'Gym', 0.60, 85)\n",
    "print(book.average_grade('xgh'))"
   ]
  },
  {
   "cell_type": "code",
   "execution_count": 16,
   "metadata": {},
   "outputs": [],
   "source": [
    "from collections import namedtuple\n",
    "Grade = namedtuple('Grade', ('score', 'weight'))"
   ]
  },
  {
   "cell_type": "code",
   "execution_count": 35,
   "metadata": {},
   "outputs": [],
   "source": [
    "class Subject:\n",
    "    def __init__(self):\n",
    "        self._sub = []\n",
    "    \n",
    "    def report_grade(self, score, weight):\n",
    "        self._sub.append(Grade(score, weight))\n",
    "    \n",
    "    def average_grade(self):\n",
    "        scores, weights = 0, 0\n",
    "        for each in self._sub:\n",
    "            weights += each.weight\n",
    "            scores += each.score * each.weight\n",
    "        return scores / weights"
   ]
  },
  {
   "cell_type": "code",
   "execution_count": 36,
   "metadata": {},
   "outputs": [],
   "source": [
    "class Student:\n",
    "    def __init__(self):\n",
    "        self._subs = defaultdict(Subject)\n",
    "        \n",
    "    def get_subject(self, name):\n",
    "        return self._subs[name]\n",
    "    \n",
    "    def average_grade(self):\n",
    "        score, cnt = 0, 0\n",
    "        for each_sub in self._subs.values():\n",
    "            score += each_sub.average_grade()\n",
    "            cnt += 1\n",
    "        return score / cnt\n",
    "    "
   ]
  },
  {
   "cell_type": "code",
   "execution_count": 37,
   "metadata": {},
   "outputs": [],
   "source": [
    "class Gradebook:\n",
    "    def __init__(self):\n",
    "        self._students = defaultdict(Student)\n",
    "    \n",
    "    def get_student(self, name):\n",
    "        return self._students[name]\n",
    "        "
   ]
  },
  {
   "cell_type": "code",
   "execution_count": 38,
   "metadata": {},
   "outputs": [
    {
     "name": "stdout",
     "output_type": "stream",
     "text": [
      "80.25\n"
     ]
    }
   ],
   "source": [
    "book = Gradebook()\n",
    "stu = book.get_student('xgh')\n",
    "math = stu.get_subject('Math')\n",
    "math.report_grade(75, 0.05)\n",
    "math.report_grade(65, 0.15)\n",
    "math.report_grade(70, 0.80)\n",
    "gym = stu.get_subject('Gym')\n",
    "gym.report_grade(100, 0.40)\n",
    "gym.report_grade(85, 0.60)\n",
    "print(stu.average_grade())\n"
   ]
  },
  {
   "cell_type": "code",
   "execution_count": null,
   "metadata": {},
   "outputs": [],
   "source": []
  }
 ],
 "metadata": {
  "kernelspec": {
   "display_name": "Python 3",
   "language": "python",
   "name": "python3"
  },
  "language_info": {
   "codemirror_mode": {
    "name": "ipython",
    "version": 3
   },
   "file_extension": ".py",
   "mimetype": "text/x-python",
   "name": "python",
   "nbconvert_exporter": "python",
   "pygments_lexer": "ipython3",
   "version": "3.7.4"
  }
 },
 "nbformat": 4,
 "nbformat_minor": 1
}
