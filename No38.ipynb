{
 "cells": [
  {
   "cell_type": "markdown",
   "metadata": {},
   "source": [
    "- 使用闭包记录关键字缺失的次数"
   ]
  },
  {
   "cell_type": "code",
   "execution_count": 5,
   "metadata": {},
   "outputs": [],
   "source": [
    "from collections import defaultdict\n",
    "cur = {'green': 12, 'blue': 3}\n",
    "inc = [\n",
    "    ('red', 5),\n",
    "    ('blue', 17),\n",
    "    ('orange', 9)\n",
    "]\n"
   ]
  },
  {
   "cell_type": "code",
   "execution_count": 11,
   "metadata": {},
   "outputs": [],
   "source": [
    "def increnment_with_report(cur, inc):\n",
    "    cnt = 0\n",
    "    def missing():\n",
    "        nonlocal cnt\n",
    "        cnt += 1\n",
    "        return cnt\n",
    "    res = defaultdict(missing, cur)\n",
    "    for key, value in inc:\n",
    "        res[key] += value # 存在查询的过程\n",
    "    \n",
    "    print(res, cnt)\n",
    "    \n",
    "        "
   ]
  },
  {
   "cell_type": "code",
   "execution_count": 12,
   "metadata": {},
   "outputs": [
    {
     "name": "stdout",
     "output_type": "stream",
     "text": [
      "defaultdict(<function increnment_with_report.<locals>.missing at 0x7f807c0a4950>, {'green': 12, 'blue': 20, 'red': 6, 'orange': 11}) 2\n"
     ]
    }
   ],
   "source": [
    "increnment_with_report(cur, inc)"
   ]
  },
  {
   "cell_type": "markdown",
   "metadata": {},
   "source": [
    "- 使用类的实例记录关键字缺失的次数"
   ]
  },
  {
   "cell_type": "code",
   "execution_count": 19,
   "metadata": {},
   "outputs": [],
   "source": [
    "class Countmissing:\n",
    "    def __init__(self):\n",
    "        self.cnt = 0\n",
    "    def counter(self):\n",
    "        self.cnt+=1\n",
    "        return 0"
   ]
  },
  {
   "cell_type": "code",
   "execution_count": 20,
   "metadata": {},
   "outputs": [
    {
     "name": "stdout",
     "output_type": "stream",
     "text": [
      "2\n"
     ]
    }
   ],
   "source": [
    "countmissing = Countmissing()\n",
    "res = defaultdict(countmissing.counter, cur)\n",
    "for key, value in inc:\n",
    "    res[key] += value # 存在查询的过程\n",
    "print(countmissing.cnt)"
   ]
  },
  {
   "cell_type": "markdown",
   "metadata": {},
   "source": [
    "- 使用\\__call\\__方法实现记录关键字缺失的次数"
   ]
  },
  {
   "cell_type": "code",
   "execution_count": 23,
   "metadata": {},
   "outputs": [],
   "source": [
    "class BetterCountmissing:\n",
    "    def __init__(self):\n",
    "        self.cnt = 0\n",
    "    def __call__(self):\n",
    "        self.cnt+=1\n",
    "        return 0"
   ]
  },
  {
   "cell_type": "code",
   "execution_count": 25,
   "metadata": {},
   "outputs": [
    {
     "name": "stdout",
     "output_type": "stream",
     "text": [
      "2\n"
     ]
    }
   ],
   "source": [
    "counter = BetterCountmissing()\n",
    "res = defaultdict(counter, cur)\n",
    "for key, value in inc:\n",
    "    res[key] += value # 存在查询的过程\n",
    "print(counter.cnt)"
   ]
  },
  {
   "cell_type": "code",
   "execution_count": null,
   "metadata": {},
   "outputs": [],
   "source": []
  }
 ],
 "metadata": {
  "kernelspec": {
   "display_name": "Python 3",
   "language": "python",
   "name": "python3"
  },
  "language_info": {
   "codemirror_mode": {
    "name": "ipython",
    "version": 3
   },
   "file_extension": ".py",
   "mimetype": "text/x-python",
   "name": "python",
   "nbconvert_exporter": "python",
   "pygments_lexer": "ipython3",
   "version": "3.7.4"
  }
 },
 "nbformat": 4,
 "nbformat_minor": 2
}
